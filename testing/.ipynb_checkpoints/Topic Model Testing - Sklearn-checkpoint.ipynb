{
 "cells": [
  {
   "cell_type": "markdown",
   "metadata": {},
   "source": [
    "# Exploratory Topic Modeling\n",
    "\n",
    "## Introduction\n",
    "\n",
    "### Summary\n",
    "In this notebook, I'm going to try to build a topic model using [legislation proposed in Maryland in 2018](). \n",
    "\n",
    "I heavily relied on a [Topic Modeling tutorial I found on MachineLearningPlus](https://www.machinelearningplus.com/nlp/topic-modeling-python-sklearn-examples/). Thanks to everyone in the community who is putting out information to help others learn!\n",
    "\n",
    "### Gathering the data\n",
    "\n",
    "I built a web scraper that crawls the [Maryland General Assembly's website](http://mgaleg.maryland.gov/webmga/frmLegislation.aspx?pid=legisnpage&tab=subject3) and collects information about each bill proposed in the 2018 session. To build the topic model, I used the \"Purpose\" from each bill; this was a really interesting challenge! If you're interested on my approach, you can read through my tutorial [here]().\n",
    "\n",
    "### Requirements\n",
    "\n",
    "You can download the entire project on my GitHub, but if you want to walk through this yourself, be sure you have the following packages:\n",
    "\n",
    "* pandas\n",
    "* gensim\n",
    "* spacy\n",
    "* sklearn\n",
    "\n",
    "## Data Preparation\n",
    "\n",
    "### Loading in the data\n",
    "\n",
    "As I mentioned above, I've already collected the data myself. If you're interested in learning more about that, you can look [here]().\n"
   ]
  },
  {
   "cell_type": "code",
   "execution_count": 17,
   "metadata": {},
   "outputs": [
    {
     "data": {
      "text/html": [
       "<div>\n",
       "<style scoped>\n",
       "    .dataframe tbody tr th:only-of-type {\n",
       "        vertical-align: middle;\n",
       "    }\n",
       "\n",
       "    .dataframe tbody tr th {\n",
       "        vertical-align: top;\n",
       "    }\n",
       "\n",
       "    .dataframe thead th {\n",
       "        text-align: right;\n",
       "    }\n",
       "</style>\n",
       "<table border=\"1\" class=\"dataframe\">\n",
       "  <thead>\n",
       "    <tr style=\"text-align: right;\">\n",
       "      <th></th>\n",
       "      <th>bill_name</th>\n",
       "      <th>bill_number</th>\n",
       "      <th>broad_subjects</th>\n",
       "      <th>committee</th>\n",
       "      <th>narrow_subjects</th>\n",
       "      <th>purpose</th>\n",
       "      <th>sponsor</th>\n",
       "      <th>status</th>\n",
       "      <th>url</th>\n",
       "    </tr>\n",
       "  </thead>\n",
       "  <tbody>\n",
       "    <tr>\n",
       "      <th>0</th>\n",
       "      <td>Harford County Sheriff - Deputy Sheriffs and C...</td>\n",
       "      <td>HB0015</td>\n",
       "      <td>Courts and Court Personnel - Local</td>\n",
       "      <td>Appropriations</td>\n",
       "      <td>Collective Bargaining,Contracts -see also- Lan...</td>\n",
       "      <td>FOR the purpose of providing that certain depu...</td>\n",
       "      <td>Delegate Lisanti</td>\n",
       "      <td>In the House - Unfavorable Report by Appropria...</td>\n",
       "      <td>http://mgaleg.maryland.gov/2018RS/bills/hb/hb0...</td>\n",
       "    </tr>\n",
       "  </tbody>\n",
       "</table>\n",
       "</div>"
      ],
      "text/plain": [
       "                                           bill_name bill_number  \\\n",
       "0  Harford County Sheriff - Deputy Sheriffs and C...      HB0015   \n",
       "\n",
       "                       broad_subjects       committee  \\\n",
       "0  Courts and Court Personnel - Local  Appropriations   \n",
       "\n",
       "                                     narrow_subjects  \\\n",
       "0  Collective Bargaining,Contracts -see also- Lan...   \n",
       "\n",
       "                                             purpose           sponsor  \\\n",
       "0  FOR the purpose of providing that certain depu...  Delegate Lisanti   \n",
       "\n",
       "                                              status  \\\n",
       "0  In the House - Unfavorable Report by Appropria...   \n",
       "\n",
       "                                                 url  \n",
       "0  http://mgaleg.maryland.gov/2018RS/bills/hb/hb0...  "
      ]
     },
     "execution_count": 17,
     "metadata": {},
     "output_type": "execute_result"
    }
   ],
   "source": [
    "import pandas as pd\n",
    "\n",
    "data = pd.read_csv(\n",
    "    'C:\\\\Users\\\\switkowski\\\\Documents\\\\Projects\\\\Topic-Model-MD-Legislation\\\\legislation_scraper\\\\data\\\\bill_data.csv')\n",
    "data.head(1)"
   ]
  },
  {
   "cell_type": "markdown",
   "metadata": {},
   "source": [
    "There's a lot of information in this file. Briefly, here's what's contained in `bill_data.csv`.\n",
    "\n",
    "* bill_name\n",
    "* bill_number\n",
    "* broad_subjects\n",
    "* committee\n",
    "* narrow_subjects\n",
    "* purpose\n",
    "* sponsor\n",
    "* status\n",
    "* url\n",
    "\n",
    "To build the topic model, we're going to use `purpose`.\n",
    "\n",
    "The first thing I'm going to do is convert `purpose` to a list."
   ]
  },
  {
   "cell_type": "code",
   "execution_count": 2,
   "metadata": {},
   "outputs": [],
   "source": [
    "purpose = data.purpose.tolist()"
   ]
  },
  {
   "cell_type": "markdown",
   "metadata": {},
   "source": [
    "### Preparing and processing the text data\n",
    "\n",
    "Next, I'm going to process the text a little bit. To accurately build the model, I need to standardize the text as uniform as possible.\n",
    "\n",
    "First, I'm going to use `gensim.utils.simplepreprocess` to remove lowercases, accents, and [tokenize the data](https://www.techopedia.com/definition/13698/tokenization). Tokenizing the data converts out "
   ]
  },
  {
   "cell_type": "code",
   "execution_count": 21,
   "metadata": {},
   "outputs": [
    {
     "data": {
      "text/plain": [
       "['for', 'the', 'purpose', 'of', 'authorizing', 'the', 'creation', 'of', 'state', 'debt', 'not', 'to', 'exceed', 'the', 'proceeds', 'to', 'be', 'used', 'as', 'grant', 'to', 'the', 'county', 'executive', 'and', 'county', 'council', 'of', 'howard', 'county', 'for', 'certain', 'development', 'or', 'improvement', 'purposes', 'providing', 'for', 'disbursement', 'of', 'the', 'loan', 'proceeds', 'subject', 'to', 'requirement', 'that', 'the', 'grantee', 'provide', 'and', 'expend', 'matching', 'fund', 'establishing', 'deadline', 'for', 'the', 'encumbrance', 'or', 'expenditure', 'of', 'the', 'loan', 'proceeds', 'and', 'providing', 'generally', 'for', 'the', 'issuance', 'and', 'sale', 'of', 'bonds', 'evidencing', 'the', 'loan', 'section', 'be', 'it', 'enacted']"
      ]
     },
     "execution_count": 21,
     "metadata": {},
     "output_type": "execute_result"
    }
   ],
   "source": [
    "import gensim\n",
    "\n",
    "purpose_words = [gensim.utils.simple_preprocess(\n",
    "    str(text), deacc=True) for text in purpose]\n",
    "\n",
    "purpose_words[1]"
   ]
  },
  {
   "cell_type": "markdown",
   "metadata": {},
   "source": [
    "The text looks a lot better now, but there's one more critical step I need to take before we can move forward. You'll notice that there are words that take both a singular and plural version in this text (for example, \"purpose\" and \"purposes\"). These are effectively conveying the same message, but they would be processed as different words. \n",
    "\n",
    "To improve my model, I'm going to take the [*lemma* of each word](https://nlp.stanford.edu/IR-book/html/htmledition/stemming-and-lemmatization-1.html) using `spacy` and lemmatization. Using the example of \"purpose\" and \"purposes\", each word would be converted to \"purpose\"."
   ]
  },
  {
   "cell_type": "code",
   "execution_count": 25,
   "metadata": {},
   "outputs": [
    {
     "data": {
      "text/plain": [
       "'purpose'"
      ]
     },
     "execution_count": 25,
     "metadata": {},
     "output_type": "execute_result"
    }
   ],
   "source": [
    "nlp('purpose')[0].lemma_"
   ]
  },
  {
   "cell_type": "code",
   "execution_count": 4,
   "metadata": {
    "scrolled": true
   },
   "outputs": [
    {
     "name": "stderr",
     "output_type": "stream",
     "text": [
      "C:\\Users\\switkowski\\AppData\\Local\\Programs\\Python\\Python36\\Lib\\importlib\\_bootstrap.py:205: RuntimeWarning: cymem.cymem.Pool size changed, may indicate binary incompatibility. Expected 48 from C header, got 64 from PyObject\n",
      "  return f(*args, **kwds)\n",
      "C:\\Users\\switkowski\\AppData\\Local\\Programs\\Python\\Python36\\Lib\\importlib\\_bootstrap.py:205: RuntimeWarning: cymem.cymem.Address size changed, may indicate binary incompatibility. Expected 24 from C header, got 40 from PyObject\n",
      "  return f(*args, **kwds)\n"
     ]
    }
   ],
   "source": [
    "import spacy\n",
    "\n",
    "\n",
    "def lemmatization(texts, allowed_postags=['NOUN', 'ADJ', 'VERB', 'ADV']):\n",
    "    texts_out = []\n",
    "    for text in texts:\n",
    "        doc = nlp(\" \".join(text))\n",
    "        texts_out.append(\" \".join([token.lemma_ if token.lemma_ not in [\n",
    "                         '-PRON-'] else \"\" for token in doc if token.pos_ in allowed_postags]))\n",
    "    return texts_out\n",
    "\n",
    "\n",
    "nlp = spacy.load('en', disable=(['parser', 'ner']))\n",
    "purpose_lemmatized = lemmatization(purpose_words)"
   ]
  },
  {
   "cell_type": "code",
   "execution_count": 5,
   "metadata": {
    "scrolled": true
   },
   "outputs": [
    {
     "data": {
      "text/plain": [
       "'purpose provide certain deputy sheriff correctional officer office sheriff harford county have right organize negotiate harford county executive harford county sheriff regard certain wage employee health care premium share require right organize negotiate be conduct accordance certain provision harford county code otherwise provide act require term agreement regard certain wage employee health care premium share be set memorandum agreement enter sheriff county executive employee organization provide agreement regard certain wage employee health care premium share be not effective agreement be ratify sheriff county executive employee organization provide modification exist memorandum agreement be not valid certain circumstance require certain procedure set harford county code apply certain party be unable reach certain agreement provide construction act generally relate salary negotiation right swear law enforcement officer correctional officer harford county sheriff office'"
      ]
     },
     "execution_count": 5,
     "metadata": {},
     "output_type": "execute_result"
    }
   ],
   "source": [
    "purpose_lemmatized[0]"
   ]
  },
  {
   "cell_type": "code",
   "execution_count": 6,
   "metadata": {},
   "outputs": [],
   "source": [
    "from sklearn.feature_extraction.text import CountVectorizer, TfidfVectorizer\n",
    "\n",
    "vectorizer = CountVectorizer(analyzer = 'word',\n",
    "                            min_df = 10,\n",
    "                            stop_words = 'english',\n",
    "                            lowercase = True,\n",
    "                            token_pattern = '[a-zA-Z0-9]{3,}')\n",
    "\n",
    "purpose_vectorized = vectorizer.fit_transform(purpose_lemmatized)"
   ]
  },
  {
   "cell_type": "code",
   "execution_count": 7,
   "metadata": {},
   "outputs": [
    {
     "name": "stdout",
     "output_type": "stream",
     "text": [
      "Sparcity: 2.43933850340896%\n"
     ]
    }
   ],
   "source": [
    "purpose_dense = purpose_vectorized.todense()\n",
    "\n",
    "print(\"Sparcity: \" + str(((purpose_dense > 0).sum()/purpose_dense.size)*100) + \"%\")"
   ]
  },
  {
   "cell_type": "code",
   "execution_count": 8,
   "metadata": {},
   "outputs": [
    {
     "name": "stdout",
     "output_type": "stream",
     "text": [
      "LatentDirichletAllocation(batch_size=50, doc_topic_prior=None,\n",
      "             evaluate_every=-1, learning_decay=0.7,\n",
      "             learning_method='online', learning_offset=10.0,\n",
      "             max_doc_update_iter=100, max_iter=10, mean_change_tol=0.001,\n",
      "             n_components=8, n_jobs=-1, n_topics=None, perp_tol=0.1,\n",
      "             random_state=100, topic_word_prior=None,\n",
      "             total_samples=1000000.0, verbose=0)\n"
     ]
    }
   ],
   "source": [
    "from sklearn.decomposition import LatentDirichletAllocation, TruncatedSVD\n",
    "\n",
    "lda_model = LatentDirichletAllocation(n_components=8,\n",
    "                                     max_iter=10,\n",
    "                                     learning_method='online',\n",
    "                                     random_state=100,\n",
    "                                     batch_size=50,\n",
    "                                     evaluate_every=-1,\n",
    "                                     n_jobs=-1)\n",
    "\n",
    "lda_output = lda_model.fit_transform(purpose_vectorized)\n",
    "\n",
    "print(lda_model)"
   ]
  },
  {
   "cell_type": "code",
   "execution_count": 9,
   "metadata": {
    "scrolled": true
   },
   "outputs": [
    {
     "name": "stdout",
     "output_type": "stream",
     "text": [
      "Log Likelihood:  -1263931.107496432\n"
     ]
    }
   ],
   "source": [
    "print(\"Log Likelihood: \", lda_model.score(purpose_vectorized))"
   ]
  },
  {
   "cell_type": "code",
   "execution_count": 10,
   "metadata": {},
   "outputs": [
    {
     "name": "stdout",
     "output_type": "stream",
     "text": [
      "Perplexity:  256.1582111918381\n"
     ]
    }
   ],
   "source": [
    "print(\"Perplexity: \", lda_model.perplexity(purpose_vectorized))"
   ]
  },
  {
   "cell_type": "code",
   "execution_count": 11,
   "metadata": {
    "scrolled": true
   },
   "outputs": [
    {
     "name": "stdout",
     "output_type": "stream",
     "text": [
      "Pretty printing has been turned OFF\n"
     ]
    }
   ],
   "source": [
    "pprint(lda_model.get_params())"
   ]
  },
  {
   "cell_type": "code",
   "execution_count": 12,
   "metadata": {
    "scrolled": true
   },
   "outputs": [
    {
     "name": "stderr",
     "output_type": "stream",
     "text": [
      "C:\\Users\\switkowski\\AppData\\Local\\Programs\\Python\\Python36\\Lib\\site-packages\\sklearn\\decomposition\\online_lda.py:536: DeprecationWarning: The default value for 'learning_method' will be changed from 'online' to 'batch' in the release 0.20. This warning was introduced in 0.18.\n",
      "  DeprecationWarning)\n",
      "C:\\Users\\switkowski\\AppData\\Local\\Programs\\Python\\Python36\\Lib\\site-packages\\sklearn\\decomposition\\online_lda.py:536: DeprecationWarning: The default value for 'learning_method' will be changed from 'online' to 'batch' in the release 0.20. This warning was introduced in 0.18.\n",
      "  DeprecationWarning)\n",
      "C:\\Users\\switkowski\\AppData\\Local\\Programs\\Python\\Python36\\Lib\\site-packages\\sklearn\\decomposition\\online_lda.py:536: DeprecationWarning: The default value for 'learning_method' will be changed from 'online' to 'batch' in the release 0.20. This warning was introduced in 0.18.\n",
      "  DeprecationWarning)\n",
      "C:\\Users\\switkowski\\AppData\\Local\\Programs\\Python\\Python36\\Lib\\site-packages\\sklearn\\decomposition\\online_lda.py:536: DeprecationWarning: The default value for 'learning_method' will be changed from 'online' to 'batch' in the release 0.20. This warning was introduced in 0.18.\n",
      "  DeprecationWarning)\n",
      "C:\\Users\\switkowski\\AppData\\Local\\Programs\\Python\\Python36\\Lib\\site-packages\\sklearn\\decomposition\\online_lda.py:536: DeprecationWarning: The default value for 'learning_method' will be changed from 'online' to 'batch' in the release 0.20. This warning was introduced in 0.18.\n",
      "  DeprecationWarning)\n",
      "C:\\Users\\switkowski\\AppData\\Local\\Programs\\Python\\Python36\\Lib\\site-packages\\sklearn\\decomposition\\online_lda.py:536: DeprecationWarning: The default value for 'learning_method' will be changed from 'online' to 'batch' in the release 0.20. This warning was introduced in 0.18.\n",
      "  DeprecationWarning)\n",
      "C:\\Users\\switkowski\\AppData\\Local\\Programs\\Python\\Python36\\Lib\\site-packages\\sklearn\\decomposition\\online_lda.py:536: DeprecationWarning: The default value for 'learning_method' will be changed from 'online' to 'batch' in the release 0.20. This warning was introduced in 0.18.\n",
      "  DeprecationWarning)\n",
      "C:\\Users\\switkowski\\AppData\\Local\\Programs\\Python\\Python36\\Lib\\site-packages\\sklearn\\decomposition\\online_lda.py:536: DeprecationWarning: The default value for 'learning_method' will be changed from 'online' to 'batch' in the release 0.20. This warning was introduced in 0.18.\n",
      "  DeprecationWarning)\n",
      "C:\\Users\\switkowski\\AppData\\Local\\Programs\\Python\\Python36\\Lib\\site-packages\\sklearn\\decomposition\\online_lda.py:536: DeprecationWarning: The default value for 'learning_method' will be changed from 'online' to 'batch' in the release 0.20. This warning was introduced in 0.18.\n",
      "  DeprecationWarning)\n",
      "C:\\Users\\switkowski\\AppData\\Local\\Programs\\Python\\Python36\\Lib\\site-packages\\sklearn\\decomposition\\online_lda.py:536: DeprecationWarning: The default value for 'learning_method' will be changed from 'online' to 'batch' in the release 0.20. This warning was introduced in 0.18.\n",
      "  DeprecationWarning)\n",
      "C:\\Users\\switkowski\\AppData\\Local\\Programs\\Python\\Python36\\Lib\\site-packages\\sklearn\\decomposition\\online_lda.py:536: DeprecationWarning: The default value for 'learning_method' will be changed from 'online' to 'batch' in the release 0.20. This warning was introduced in 0.18.\n",
      "  DeprecationWarning)\n",
      "C:\\Users\\switkowski\\AppData\\Local\\Programs\\Python\\Python36\\Lib\\site-packages\\sklearn\\decomposition\\online_lda.py:536: DeprecationWarning: The default value for 'learning_method' will be changed from 'online' to 'batch' in the release 0.20. This warning was introduced in 0.18.\n",
      "  DeprecationWarning)\n",
      "C:\\Users\\switkowski\\AppData\\Local\\Programs\\Python\\Python36\\Lib\\site-packages\\sklearn\\decomposition\\online_lda.py:536: DeprecationWarning: The default value for 'learning_method' will be changed from 'online' to 'batch' in the release 0.20. This warning was introduced in 0.18.\n",
      "  DeprecationWarning)\n",
      "C:\\Users\\switkowski\\AppData\\Local\\Programs\\Python\\Python36\\Lib\\site-packages\\sklearn\\decomposition\\online_lda.py:536: DeprecationWarning: The default value for 'learning_method' will be changed from 'online' to 'batch' in the release 0.20. This warning was introduced in 0.18.\n",
      "  DeprecationWarning)\n",
      "C:\\Users\\switkowski\\AppData\\Local\\Programs\\Python\\Python36\\Lib\\site-packages\\sklearn\\decomposition\\online_lda.py:536: DeprecationWarning: The default value for 'learning_method' will be changed from 'online' to 'batch' in the release 0.20. This warning was introduced in 0.18.\n",
      "  DeprecationWarning)\n",
      "C:\\Users\\switkowski\\AppData\\Local\\Programs\\Python\\Python36\\Lib\\site-packages\\sklearn\\decomposition\\online_lda.py:536: DeprecationWarning: The default value for 'learning_method' will be changed from 'online' to 'batch' in the release 0.20. This warning was introduced in 0.18.\n",
      "  DeprecationWarning)\n",
      "C:\\Users\\switkowski\\AppData\\Local\\Programs\\Python\\Python36\\Lib\\site-packages\\sklearn\\decomposition\\online_lda.py:536: DeprecationWarning: The default value for 'learning_method' will be changed from 'online' to 'batch' in the release 0.20. This warning was introduced in 0.18.\n",
      "  DeprecationWarning)\n",
      "C:\\Users\\switkowski\\AppData\\Local\\Programs\\Python\\Python36\\Lib\\site-packages\\sklearn\\decomposition\\online_lda.py:536: DeprecationWarning: The default value for 'learning_method' will be changed from 'online' to 'batch' in the release 0.20. This warning was introduced in 0.18.\n",
      "  DeprecationWarning)\n",
      "C:\\Users\\switkowski\\AppData\\Local\\Programs\\Python\\Python36\\Lib\\site-packages\\sklearn\\decomposition\\online_lda.py:536: DeprecationWarning: The default value for 'learning_method' will be changed from 'online' to 'batch' in the release 0.20. This warning was introduced in 0.18.\n",
      "  DeprecationWarning)\n",
      "C:\\Users\\switkowski\\AppData\\Local\\Programs\\Python\\Python36\\Lib\\site-packages\\sklearn\\decomposition\\online_lda.py:536: DeprecationWarning: The default value for 'learning_method' will be changed from 'online' to 'batch' in the release 0.20. This warning was introduced in 0.18.\n",
      "  DeprecationWarning)\n",
      "C:\\Users\\switkowski\\AppData\\Local\\Programs\\Python\\Python36\\Lib\\site-packages\\sklearn\\decomposition\\online_lda.py:536: DeprecationWarning: The default value for 'learning_method' will be changed from 'online' to 'batch' in the release 0.20. This warning was introduced in 0.18.\n",
      "  DeprecationWarning)\n",
      "C:\\Users\\switkowski\\AppData\\Local\\Programs\\Python\\Python36\\Lib\\site-packages\\sklearn\\decomposition\\online_lda.py:536: DeprecationWarning: The default value for 'learning_method' will be changed from 'online' to 'batch' in the release 0.20. This warning was introduced in 0.18.\n",
      "  DeprecationWarning)\n",
      "C:\\Users\\switkowski\\AppData\\Local\\Programs\\Python\\Python36\\Lib\\site-packages\\sklearn\\decomposition\\online_lda.py:536: DeprecationWarning: The default value for 'learning_method' will be changed from 'online' to 'batch' in the release 0.20. This warning was introduced in 0.18.\n",
      "  DeprecationWarning)\n",
      "C:\\Users\\switkowski\\AppData\\Local\\Programs\\Python\\Python36\\Lib\\site-packages\\sklearn\\decomposition\\online_lda.py:536: DeprecationWarning: The default value for 'learning_method' will be changed from 'online' to 'batch' in the release 0.20. This warning was introduced in 0.18.\n",
      "  DeprecationWarning)\n",
      "C:\\Users\\switkowski\\AppData\\Local\\Programs\\Python\\Python36\\Lib\\site-packages\\sklearn\\decomposition\\online_lda.py:536: DeprecationWarning: The default value for 'learning_method' will be changed from 'online' to 'batch' in the release 0.20. This warning was introduced in 0.18.\n",
      "  DeprecationWarning)\n",
      "C:\\Users\\switkowski\\AppData\\Local\\Programs\\Python\\Python36\\Lib\\site-packages\\sklearn\\decomposition\\online_lda.py:536: DeprecationWarning: The default value for 'learning_method' will be changed from 'online' to 'batch' in the release 0.20. This warning was introduced in 0.18.\n",
      "  DeprecationWarning)\n",
      "C:\\Users\\switkowski\\AppData\\Local\\Programs\\Python\\Python36\\Lib\\site-packages\\sklearn\\decomposition\\online_lda.py:536: DeprecationWarning: The default value for 'learning_method' will be changed from 'online' to 'batch' in the release 0.20. This warning was introduced in 0.18.\n",
      "  DeprecationWarning)\n",
      "C:\\Users\\switkowski\\AppData\\Local\\Programs\\Python\\Python36\\Lib\\site-packages\\sklearn\\decomposition\\online_lda.py:536: DeprecationWarning: The default value for 'learning_method' will be changed from 'online' to 'batch' in the release 0.20. This warning was introduced in 0.18.\n",
      "  DeprecationWarning)\n"
     ]
    },
    {
     "name": "stderr",
     "output_type": "stream",
     "text": [
      "C:\\Users\\switkowski\\AppData\\Local\\Programs\\Python\\Python36\\Lib\\site-packages\\sklearn\\decomposition\\online_lda.py:536: DeprecationWarning: The default value for 'learning_method' will be changed from 'online' to 'batch' in the release 0.20. This warning was introduced in 0.18.\n",
      "  DeprecationWarning)\n",
      "C:\\Users\\switkowski\\AppData\\Local\\Programs\\Python\\Python36\\Lib\\site-packages\\sklearn\\decomposition\\online_lda.py:536: DeprecationWarning: The default value for 'learning_method' will be changed from 'online' to 'batch' in the release 0.20. This warning was introduced in 0.18.\n",
      "  DeprecationWarning)\n",
      "C:\\Users\\switkowski\\AppData\\Local\\Programs\\Python\\Python36\\Lib\\site-packages\\sklearn\\decomposition\\online_lda.py:536: DeprecationWarning: The default value for 'learning_method' will be changed from 'online' to 'batch' in the release 0.20. This warning was introduced in 0.18.\n",
      "  DeprecationWarning)\n",
      "C:\\Users\\switkowski\\AppData\\Local\\Programs\\Python\\Python36\\Lib\\site-packages\\sklearn\\decomposition\\online_lda.py:536: DeprecationWarning: The default value for 'learning_method' will be changed from 'online' to 'batch' in the release 0.20. This warning was introduced in 0.18.\n",
      "  DeprecationWarning)\n",
      "C:\\Users\\switkowski\\AppData\\Local\\Programs\\Python\\Python36\\Lib\\site-packages\\sklearn\\decomposition\\online_lda.py:536: DeprecationWarning: The default value for 'learning_method' will be changed from 'online' to 'batch' in the release 0.20. This warning was introduced in 0.18.\n",
      "  DeprecationWarning)\n",
      "C:\\Users\\switkowski\\AppData\\Local\\Programs\\Python\\Python36\\Lib\\site-packages\\sklearn\\decomposition\\online_lda.py:536: DeprecationWarn"
     ]
    },
    {
     "data": {
      "text/html": [
       "<b>limit_output extension: Maximum message size of 10000 exceeded with 10166 characters</b>"
      ]
     },
     "metadata": {},
     "output_type": "display_data"
    }
   ],
   "source": [
    "from sklearn.model_selection import GridSearchCV\n",
    "\n",
    "search_params = {'n_components': [5, 10, 15, 20, 25, 30],\n",
    "                'learning_decay': [0.5, 0.7, 0.9]}\n",
    "\n",
    "lda = LatentDirichletAllocation()\n",
    "\n",
    "model = GridSearchCV(lda, param_grid = search_params)\n",
    "\n",
    "model.fit(purpose_vectorized)"
   ]
  },
  {
   "cell_type": "code",
   "execution_count": 13,
   "metadata": {},
   "outputs": [
    {
     "name": "stdout",
     "output_type": "stream",
     "text": [
      "Best Model's Params:  {'learning_decay': 0.9, 'n_components': 15}\n",
      "Best Log Likelihood Score:  -459277.68657627713\n",
      "Model Perplexity:  218.16156096221894\n"
     ]
    }
   ],
   "source": [
    "best_lda_model = model.best_estimator_\n",
    "\n",
    "print(\"Best Model's Params: \", model.best_params_)\n",
    "\n",
    "print(\"Best Log Likelihood Score: \", model.best_score_)\n",
    "\n",
    "print(\"Model Perplexity: \", best_lda_model.perplexity(purpose_vectorized))"
   ]
  },
  {
   "cell_type": "code",
   "execution_count": 14,
   "metadata": {
    "scrolled": true
   },
   "outputs": [
    {
     "data": {
      "text/html": [
       "<div>\n",
       "<style scoped>\n",
       "    .dataframe tbody tr th:only-of-type {\n",
       "        vertical-align: middle;\n",
       "    }\n",
       "\n",
       "    .dataframe tbody tr th {\n",
       "        vertical-align: top;\n",
       "    }\n",
       "\n",
       "    .dataframe thead th {\n",
       "        text-align: right;\n",
       "    }\n",
       "</style>\n",
       "<table border=\"1\" class=\"dataframe\">\n",
       "  <thead>\n",
       "    <tr style=\"text-align: right;\">\n",
       "      <th></th>\n",
       "      <th>abandon</th>\n",
       "      <th>ability</th>\n",
       "      <th>absentee</th>\n",
       "      <th>abuse</th>\n",
       "      <th>academic</th>\n",
       "      <th>accept</th>\n",
       "      <th>access</th>\n",
       "      <th>accessible</th>\n",
       "      <th>accordance</th>\n",
       "      <th>account</th>\n",
       "      <th>...</th>\n",
       "      <th>work</th>\n",
       "      <th>worker</th>\n",
       "      <th>workforce</th>\n",
       "      <th>workgroup</th>\n",
       "      <th>write</th>\n",
       "      <th>writing</th>\n",
       "      <th>year</th>\n",
       "      <th>young</th>\n",
       "      <th>youth</th>\n",
       "      <th>zone</th>\n",
       "    </tr>\n",
       "  </thead>\n",
       "  <tbody>\n",
       "    <tr>\n",
       "      <th>0</th>\n",
       "      <td>0.072929</td>\n",
       "      <td>0.102199</td>\n",
       "      <td>0.073529</td>\n",
       "      <td>15.024464</td>\n",
       "      <td>0.082069</td>\n",
       "      <td>0.072303</td>\n",
       "      <td>27.797730</td>\n",
       "      <td>0.073751</td>\n",
       "      <td>8.966334</td>\n",
       "      <td>0.073478</td>\n",
       "      <td>...</td>\n",
       "      <td>0.330395</td>\n",
       "      <td>0.073103</td>\n",
       "      <td>0.085247</td>\n",
       "      <td>0.074435</td>\n",
       "      <td>21.134991</td>\n",
       "      <td>0.076543</td>\n",
       "      <td>0.109063</td>\n",
       "      <td>0.073831</td>\n",
       "      <td>0.072555</td>\n",
       "      <td>7.832677</td>\n",
       "    </tr>\n",
       "    <tr>\n",
       "      <th>1</th>\n",
       "      <td>0.074297</td>\n",
       "      <td>0.087642</td>\n",
       "      <td>0.120497</td>\n",
       "      <td>0.077659</td>\n",
       "      <td>0.083216</td>\n",
       "      <td>0.092760</td>\n",
       "      <td>0.092979</td>\n",
       "      <td>0.098200</td>\n",
       "      <td>6.652856</td>\n",
       "      <td>25.879754</td>\n",
       "      <td>...</td>\n",
       "      <td>1.601368</td>\n",
       "      <td>0.104675</td>\n",
       "      <td>0.074457</td>\n",
       "      <td>0.073684</td>\n",
       "      <td>4.861161</td>\n",
       "      <td>2.092029</td>\n",
       "      <td>92.294292</td>\n",
       "      <td>0.072936</td>\n",
       "      <td>0.081779</td>\n",
       "      <td>1.126161</td>\n",
       "    </tr>\n",
       "    <tr>\n",
       "      <th>2</th>\n",
       "      <td>0.287013</td>\n",
       "      <td>9.127958</td>\n",
       "      <td>0.073814</td>\n",
       "      <td>0.074949</td>\n",
       "      <td>0.073602</td>\n",
       "      <td>0.077562</td>\n",
       "      <td>8.828429</td>\n",
       "      <td>0.077769</td>\n",
       "      <td>1.590058</td>\n",
       "      <td>16.628538</td>\n",
       "      <td>...</td>\n",
       "      <td>0.090366</td>\n",
       "      <td>14.122516</td>\n",
       "      <td>0.072565</td>\n",
       "      <td>0.154756</td>\n",
       "      <td>21.587233</td>\n",
       "      <td>5.692054</td>\n",
       "      <td>7.382479</td>\n",
       "      <td>0.072305</td>\n",
       "      <td>0.073227</td>\n",
       "      <td>0.083909</td>\n",
       "    </tr>\n",
       "    <tr>\n",
       "      <th>3</th>\n",
       "      <td>0.074918</td>\n",
       "      <td>2.264629</td>\n",
       "      <td>0.074712</td>\n",
       "      <td>44.643841</td>\n",
       "      <td>0.088491</td>\n",
       "      <td>6.451913</td>\n",
       "      <td>60.996098</td>\n",
       "      <td>0.081971</td>\n",
       "      <td>40.478110</td>\n",
       "      <td>0.093005</td>\n",
       "      <td>...</td>\n",
       "      <td>12.070804</td>\n",
       "      <td>0.738668</td>\n",
       "      <td>0.078097</td>\n",
       "      <td>43.320254</td>\n",
       "      <td>15.189809</td>\n",
       "      <td>0.087651</td>\n",
       "      <td>67.616249</td>\n",
       "      <td>6.529728</td>\n",
       "      <td>59.466995</td>\n",
       "      <td>0.073886</td>\n",
       "    </tr>\n",
       "    <tr>\n",
       "      <th>4</th>\n",
       "      <td>0.073047</td>\n",
       "      <td>0.087885</td>\n",
       "      <td>0.073795</td>\n",
       "      <td>0.082269</td>\n",
       "      <td>13.379773</td>\n",
       "      <td>0.200664</td>\n",
       "      <td>0.118826</td>\n",
       "      <td>0.074274</td>\n",
       "      <td>0.101041</td>\n",
       "      <td>10.252645</td>\n",
       "      <td>...</td>\n",
       "      <td>41.500187</td>\n",
       "      <td>0.115481</td>\n",
       "      <td>48.128957</td>\n",
       "      <td>0.080863</td>\n",
       "      <td>0.108026</td>\n",
       "      <td>7.181339</td>\n",
       "      <td>1.267744</td>\n",
       "      <td>0.078190</td>\n",
       "      <td>0.082567</td>\n",
       "      <td>0.074670</td>\n",
       "    </tr>\n",
       "  </tbody>\n",
       "</table>\n",
       "<p>5 rows × 1383 columns</p>\n",
       "</div>"
      ],
      "text/plain": [
       "    abandon   ability  absentee      abuse   academic    accept     access  \\\n",
       "0  0.072929  0.102199  0.073529  15.024464   0.082069  0.072303  27.797730   \n",
       "1  0.074297  0.087642  0.120497   0.077659   0.083216  0.092760   0.092979   \n",
       "2  0.287013  9.127958  0.073814   0.074949   0.073602  0.077562   8.828429   \n",
       "3  0.074918  2.264629  0.074712  44.643841   0.088491  6.451913  60.996098   \n",
       "4  0.073047  0.087885  0.073795   0.082269  13.379773  0.200664   0.118826   \n",
       "\n",
       "   accessible  accordance    account    ...          work     worker  \\\n",
       "0    0.073751    8.966334   0.073478    ...      0.330395   0.073103   \n",
       "1    0.098200    6.652856  25.879754    ...      1.601368   0.104675   \n",
       "2    0.077769    1.590058  16.628538    ...      0.090366  14.122516   \n",
       "3    0.081971   40.478110   0.093005    ...     12.070804   0.738668   \n",
       "4    0.074274    0.101041  10.252645    ...     41.500187   0.115481   \n",
       "\n",
       "   workforce  workgroup      write   writing       year     young      youth  \\\n",
       "0   0.085247   0.074435  21.134991  0.076543   0.109063  0.073831   0.072555   \n",
       "1   0.074457   0.073684   4.861161  2.092029  92.294292  0.072936   0.081779   \n",
       "2   0.072565   0.154756  21.587233  5.692054   7.382479  0.072305   0.073227   \n",
       "3   0.078097  43.320254  15.189809  0.087651  67.616249  6.529728  59.466995   \n",
       "4  48.128957   0.080863   0.108026  7.181339   1.267744  0.078190   0.082567   \n",
       "\n",
       "       zone  \n",
       "0  7.832677  \n",
       "1  1.126161  \n",
       "2  0.083909  \n",
       "3  0.073886  \n",
       "4  0.074670  \n",
       "\n",
       "[5 rows x 1383 columns]"
      ]
     },
     "execution_count": 14,
     "metadata": {},
     "output_type": "execute_result"
    }
   ],
   "source": [
    "topic_keywords = pd.DataFrame(best_lda_model.components_)\n",
    "\n",
    "topic_keywords.columns = vectorizer.get_feature_names()\n",
    "\n",
    "topic_keywords.head()"
   ]
  },
  {
   "cell_type": "code",
   "execution_count": 15,
   "metadata": {},
   "outputs": [
    {
     "ename": "NameError",
     "evalue": "name 'np' is not defined",
     "output_type": "error",
     "traceback": [
      "\u001b[1;31m---------------------------------------------------------------------------\u001b[0m",
      "\u001b[1;31mNameError\u001b[0m                                 Traceback (most recent call last)",
      "\u001b[1;32m<ipython-input-15-53b5f45ad217>\u001b[0m in \u001b[0;36m<module>\u001b[1;34m()\u001b[0m\n\u001b[0;32m      9\u001b[0m     \u001b[1;32mreturn\u001b[0m \u001b[0mtopic_keywords\u001b[0m\u001b[1;33m\u001b[0m\u001b[0m\n\u001b[0;32m     10\u001b[0m \u001b[1;33m\u001b[0m\u001b[0m\n\u001b[1;32m---> 11\u001b[1;33m \u001b[0mtopic_keywords\u001b[0m \u001b[1;33m=\u001b[0m \u001b[0mshow_topics\u001b[0m\u001b[1;33m(\u001b[0m\u001b[0mlda_model\u001b[0m \u001b[1;33m=\u001b[0m \u001b[0mbest_lda_model\u001b[0m\u001b[1;33m)\u001b[0m\u001b[1;33m\u001b[0m\u001b[0m\n\u001b[0m",
      "\u001b[1;32m<ipython-input-15-53b5f45ad217>\u001b[0m in \u001b[0;36mshow_topics\u001b[1;34m(vectorizer, lda_model, n_words)\u001b[0m\n\u001b[0;32m      2\u001b[0m                \u001b[0mlda_model\u001b[0m \u001b[1;33m=\u001b[0m \u001b[0mlda_model\u001b[0m\u001b[1;33m,\u001b[0m\u001b[1;33m\u001b[0m\u001b[0m\n\u001b[0;32m      3\u001b[0m                n_words = 20):\n\u001b[1;32m----> 4\u001b[1;33m     \u001b[0mkeywords\u001b[0m \u001b[1;33m=\u001b[0m \u001b[0mnp\u001b[0m\u001b[1;33m.\u001b[0m\u001b[0marray\u001b[0m\u001b[1;33m(\u001b[0m\u001b[0mvectorizer\u001b[0m\u001b[1;33m.\u001b[0m\u001b[0mget_feature_names\u001b[0m\u001b[1;33m(\u001b[0m\u001b[1;33m)\u001b[0m\u001b[1;33m)\u001b[0m\u001b[1;33m\u001b[0m\u001b[0m\n\u001b[0m\u001b[0;32m      5\u001b[0m     \u001b[0mtopic_keywords\u001b[0m \u001b[1;33m=\u001b[0m \u001b[1;33m[\u001b[0m\u001b[1;33m]\u001b[0m\u001b[1;33m\u001b[0m\u001b[0m\n\u001b[0;32m      6\u001b[0m     \u001b[1;32mfor\u001b[0m \u001b[0mtopic_weights\u001b[0m \u001b[1;32min\u001b[0m \u001b[0mlda_model\u001b[0m\u001b[1;33m.\u001b[0m\u001b[0mcomponents_\u001b[0m\u001b[1;33m:\u001b[0m\u001b[1;33m\u001b[0m\u001b[0m\n",
      "\u001b[1;31mNameError\u001b[0m: name 'np' is not defined"
     ]
    }
   ],
   "source": [
    "def show_topics(vectorizer = vectorizer,\n",
    "               lda_model = lda_model,\n",
    "               n_words = 20):\n",
    "    keywords = np.array(vectorizer.get_feature_names())\n",
    "    topic_keywords = []\n",
    "    for topic_weights in lda_model.components_:\n",
    "        topic_keyword_locs = (-topic_weights).argsort()[:n_words]\n",
    "        topic_keywords.append(keywords.take(topic_keyword_locs))\n",
    "    return topic_keywords\n",
    "\n",
    "topic_keywords = show_topics(lda_model = best_lda_model)"
   ]
  },
  {
   "cell_type": "code",
   "execution_count": null,
   "metadata": {},
   "outputs": [],
   "source": [
    "pd.DataFrame(topic_keywords)"
   ]
  }
 ],
 "metadata": {
  "kernelspec": {
   "display_name": "Python 3",
   "language": "python",
   "name": "python3"
  },
  "language_info": {
   "codemirror_mode": {
    "name": "ipython",
    "version": 3
   },
   "file_extension": ".py",
   "mimetype": "text/x-python",
   "name": "python",
   "nbconvert_exporter": "python",
   "pygments_lexer": "ipython3",
   "version": "3.6.2"
  },
  "toc": {
   "base_numbering": 1,
   "nav_menu": {},
   "number_sections": true,
   "sideBar": true,
   "skip_h1_title": true,
   "title_cell": "Table of Contents",
   "title_sidebar": "Contents",
   "toc_cell": false,
   "toc_position": {},
   "toc_section_display": true,
   "toc_window_display": false
  }
 },
 "nbformat": 4,
 "nbformat_minor": 2
}
