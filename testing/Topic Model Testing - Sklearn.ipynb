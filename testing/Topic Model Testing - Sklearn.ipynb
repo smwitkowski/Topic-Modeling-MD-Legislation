{
 "cells": [
  {
   "cell_type": "markdown",
   "metadata": {},
   "source": [
    "# Exploratory Topic Modeling\n",
    "\n",
    "## Introduction\n",
    "\n",
    "### Summary\n",
    "In this notebook, I'm going to try to build a topic model using [legislation proposed in Maryland in 2018](). \n",
    "\n",
    "I heavily relied on a [Topic Modeling tutorial I found on MachineLearningPlus](https://www.machinelearningplus.com/nlp/topic-modeling-python-sklearn-examples/). Thanks to everyone in the community who is putting out information to help others learn!\n",
    "\n",
    "### Gathering the data\n",
    "\n",
    "I built a web scraper that crawls the [Maryland General Assembly's website](http://mgaleg.maryland.gov/webmga/frmLegislation.aspx?pid=legisnpage&tab=subject3) and collects information about each bill proposed in the 2018 session. To build the topic model, I used the \"Purpose\" from each bill; this was a really interesting challenge! If you're interested on my approach, you can read through my tutorial [here]().\n",
    "\n",
    "### Requirements\n",
    "\n",
    "You can download the entire project on my GitHub, but if you want to walk through this yourself, be sure you have the following packages:\n",
    "\n",
    "* pandas\n",
    "* gensim\n",
    "* spacy\n",
    "* sklearn\n",
    "\n",
    "## Data Preparation\n",
    "\n",
    "### Loading in the data\n",
    "\n",
    "As I mentioned above, I've already collected the data myself. If you're interested in learning more about that, you can look [here]().\n"
   ]
  },
  {
   "cell_type": "code",
   "execution_count": 1,
   "metadata": {},
   "outputs": [
    {
     "data": {
      "text/html": [
       "<div>\n",
       "<style scoped>\n",
       "    .dataframe tbody tr th:only-of-type {\n",
       "        vertical-align: middle;\n",
       "    }\n",
       "\n",
       "    .dataframe tbody tr th {\n",
       "        vertical-align: top;\n",
       "    }\n",
       "\n",
       "    .dataframe thead th {\n",
       "        text-align: right;\n",
       "    }\n",
       "</style>\n",
       "<table border=\"1\" class=\"dataframe\">\n",
       "  <thead>\n",
       "    <tr style=\"text-align: right;\">\n",
       "      <th></th>\n",
       "      <th>bill_name</th>\n",
       "      <th>bill_number</th>\n",
       "      <th>broad_subjects</th>\n",
       "      <th>committee</th>\n",
       "      <th>narrow_subjects</th>\n",
       "      <th>purpose</th>\n",
       "      <th>sponsor</th>\n",
       "      <th>status</th>\n",
       "      <th>url</th>\n",
       "    </tr>\n",
       "  </thead>\n",
       "  <tbody>\n",
       "    <tr>\n",
       "      <th>0</th>\n",
       "      <td>Harford County Sheriff - Deputy Sheriffs and C...</td>\n",
       "      <td>HB0015</td>\n",
       "      <td>Courts and Court Personnel - Local</td>\n",
       "      <td>Appropriations</td>\n",
       "      <td>Collective Bargaining,Contracts -see also- Lan...</td>\n",
       "      <td>FOR the purpose of providing that certain depu...</td>\n",
       "      <td>Delegate Lisanti</td>\n",
       "      <td>In the House - Unfavorable Report by Appropria...</td>\n",
       "      <td>http://mgaleg.maryland.gov/2018RS/bills/hb/hb0...</td>\n",
       "    </tr>\n",
       "  </tbody>\n",
       "</table>\n",
       "</div>"
      ],
      "text/plain": [
       "                                           bill_name bill_number  \\\n",
       "0  Harford County Sheriff - Deputy Sheriffs and C...      HB0015   \n",
       "\n",
       "                       broad_subjects       committee  \\\n",
       "0  Courts and Court Personnel - Local  Appropriations   \n",
       "\n",
       "                                     narrow_subjects  \\\n",
       "0  Collective Bargaining,Contracts -see also- Lan...   \n",
       "\n",
       "                                             purpose           sponsor  \\\n",
       "0  FOR the purpose of providing that certain depu...  Delegate Lisanti   \n",
       "\n",
       "                                              status  \\\n",
       "0  In the House - Unfavorable Report by Appropria...   \n",
       "\n",
       "                                                 url  \n",
       "0  http://mgaleg.maryland.gov/2018RS/bills/hb/hb0...  "
      ]
     },
     "execution_count": 1,
     "metadata": {},
     "output_type": "execute_result"
    }
   ],
   "source": [
    "import pandas as pd\n",
    "\n",
    "data = pd.read_csv(\n",
    "    'C:\\\\Users\\\\switkowski\\\\Documents\\\\Projects\\\\Topic-Model-MD-Legislation\\\\legislation_scraper\\\\data\\\\bill_data.csv')\n",
    "data.head(1)"
   ]
  },
  {
   "cell_type": "markdown",
   "metadata": {},
   "source": [
    "There's a lot of information in this file. Briefly, here's what's contained in `bill_data.csv`.\n",
    "\n",
    "* bill_name\n",
    "* bill_number\n",
    "* broad_subjects\n",
    "* committee\n",
    "* narrow_subjects\n",
    "* purpose\n",
    "* sponsor\n",
    "* status\n",
    "* url\n",
    "\n",
    "To build the topic model, we're going to use `purpose`.\n",
    "\n",
    "The first thing I'm going to do is convert `purpose` to a list."
   ]
  },
  {
   "cell_type": "code",
   "execution_count": 2,
   "metadata": {},
   "outputs": [],
   "source": [
    "purpose = data.purpose.tolist()"
   ]
  },
  {
   "cell_type": "markdown",
   "metadata": {},
   "source": [
    "### Preparing and processing the text data\n",
    "\n",
    "Next, I'm going to process the text a little bit. To accurately build the model, I need to standardize the text as uniform as possible.\n",
    "\n",
    "First, I'm going to use `gensim.utils.simplepreprocess` to remove lowercases, accents, and [tokenize the data](https://www.techopedia.com/definition/13698/tokenization). Tokenizing the data converts out "
   ]
  },
  {
   "cell_type": "code",
   "execution_count": 3,
   "metadata": {},
   "outputs": [
    {
     "name": "stderr",
     "output_type": "stream",
     "text": [
      "C:\\Users\\switkowski\\AppData\\Local\\Programs\\Python\\Python36\\Lib\\site-packages\\gensim\\utils.py:1212: UserWarning: detected Windows; aliasing chunkize to chunkize_serial\n",
      "  warnings.warn(\"detected Windows; aliasing chunkize to chunkize_serial\")\n"
     ]
    },
    {
     "name": "stdout",
     "output_type": "stream",
     "text": [
      "['for',\n",
      " 'the',\n",
      " 'purpose',\n",
      " 'of',\n",
      " 'authorizing',\n",
      " 'the',\n",
      " 'creation',\n",
      " 'of',\n",
      " 'state',\n",
      " 'debt',\n",
      " 'not',\n",
      " 'to',\n",
      " 'exceed',\n",
      " 'the',\n",
      " 'proceeds',\n",
      " 'to',\n",
      " 'be',\n",
      " 'used',\n",
      " 'as',\n",
      " 'grant',\n",
      " 'to',\n",
      " 'the',\n",
      " 'county',\n",
      " 'executive',\n",
      " 'and',\n",
      " 'county',\n",
      " 'council',\n",
      " 'of',\n",
      " 'howard',\n",
      " 'county',\n",
      " 'for',\n",
      " 'certain',\n",
      " 'development',\n",
      " 'or',\n",
      " 'improvement',\n",
      " 'purposes',\n",
      " 'providing',\n",
      " 'for',\n",
      " 'disbursement',\n",
      " 'of',\n",
      " 'the',\n",
      " 'loan',\n",
      " 'proceeds',\n",
      " 'subject',\n",
      " 'to',\n",
      " 'requirement',\n",
      " 'that',\n",
      " 'the',\n",
      " 'grantee',\n",
      " 'provide',\n",
      " 'and',\n",
      " 'expend',\n",
      " 'matching',\n",
      " 'fund',\n",
      " 'establishing',\n",
      " 'deadline',\n",
      " 'for',\n",
      " 'the',\n",
      " 'encumbrance',\n",
      " 'or',\n",
      " 'expenditure',\n",
      " 'of',\n",
      " 'the',\n",
      " 'loan',\n",
      " 'proceeds',\n",
      " 'and',\n",
      " 'providing',\n",
      " 'generally',\n",
      " 'for',\n",
      " 'the',\n",
      " 'issuance',\n",
      " 'and',\n",
      " 'sale',\n",
      " 'of',\n",
      " 'bonds',\n",
      " 'evidencing',\n",
      " 'the',\n",
      " 'loan',\n",
      " 'section',\n",
      " 'be',\n",
      " 'it',\n",
      " 'enacted']\n"
     ]
    }
   ],
   "source": [
    "import gensim\n",
    "from pprint import pprint\n",
    "\n",
    "purpose_words = [gensim.utils.simple_preprocess(\n",
    "    str(text), deacc=True) for text in purpose]\n",
    "\n",
    "pprint(purpose_words[1])"
   ]
  },
  {
   "cell_type": "markdown",
   "metadata": {},
   "source": [
    "The text looks a lot better now, but there's one more critical step I need to take before we can move forward. You'll notice that there are words that take both a singular and plural version in this text (for example, \"purpose\" and \"purposes\"). These are effectively conveying the same message, but they would be processed as different words. \n",
    "\n",
    "To improve my model, I'm going to take the [*lemma* of each word](https://nlp.stanford.edu/IR-book/html/htmledition/stemming-and-lemmatization-1.html) using `spacy` and lemmatization. Using the example of \"purpose\" and \"purposes\", each word would be converted to \"purpose\"."
   ]
  },
  {
   "cell_type": "code",
   "execution_count": 4,
   "metadata": {
    "scrolled": true
   },
   "outputs": [
    {
     "name": "stderr",
     "output_type": "stream",
     "text": [
      "C:\\Users\\switkowski\\AppData\\Local\\Programs\\Python\\Python36\\Lib\\importlib\\_bootstrap.py:205: RuntimeWarning: cymem.cymem.Pool size changed, may indicate binary incompatibility. Expected 48 from C header, got 64 from PyObject\n",
      "  return f(*args, **kwds)\n",
      "C:\\Users\\switkowski\\AppData\\Local\\Programs\\Python\\Python36\\Lib\\importlib\\_bootstrap.py:205: RuntimeWarning: cymem.cymem.Address size changed, may indicate binary incompatibility. Expected 24 from C header, got 40 from PyObject\n",
      "  return f(*args, **kwds)\n"
     ]
    }
   ],
   "source": [
    "import spacy\n",
    "\n",
    "\n",
    "def lemmatization(texts, allowed_postags=['NOUN', 'ADJ', 'VERB', 'ADV']):\n",
    "    texts_out = []\n",
    "    for text in texts:\n",
    "        doc = nlp(\" \".join(text))\n",
    "        texts_out.append(\" \".join([token.lemma_ if token.lemma_ not in [\n",
    "                         '-PRON-'] else \"\" for token in doc if token.pos_ in allowed_postags]))\n",
    "    return texts_out\n",
    "\n",
    "\n",
    "nlp = spacy.load('en', disable=(['parser', 'ner']))\n",
    "purpose_lemmatized = lemmatization(purpose_words)"
   ]
  },
  {
   "cell_type": "code",
   "execution_count": 5,
   "metadata": {
    "scrolled": true
   },
   "outputs": [
    {
     "data": {
      "text/plain": [
       "'purpose provide certain deputy sheriff correctional officer office sheriff harford county have right organize negotiate harford county executive harford county sheriff regard certain wage employee health care premium share require right organize negotiate be conduct accordance certain provision harford county code otherwise provide act require term agreement regard certain wage employee health care premium share be set memorandum agreement enter sheriff county executive employee organization provide agreement regard certain wage employee health care premium share be not effective agreement be ratify sheriff county executive employee organization provide modification exist memorandum agreement be not valid certain circumstance require certain procedure set harford county code apply certain party be unable reach certain agreement provide construction act generally relate salary negotiation right swear law enforcement officer correctional officer harford county sheriff office'"
      ]
     },
     "execution_count": 5,
     "metadata": {},
     "output_type": "execute_result"
    }
   ],
   "source": [
    "purpose_lemmatized[0]"
   ]
  },
  {
   "cell_type": "code",
   "execution_count": 6,
   "metadata": {},
   "outputs": [],
   "source": [
    "from sklearn.feature_extraction.text import CountVectorizer, TfidfVectorizer\n",
    "\n",
    "vectorizer = CountVectorizer(analyzer = 'word',\n",
    "                            min_df = 10,\n",
    "                            stop_words = 'english',\n",
    "                            lowercase = True,\n",
    "                            token_pattern = '[a-zA-Z0-9]{3,}')\n",
    "\n",
    "purpose_vectorized = vectorizer.fit_transform(purpose_lemmatized)"
   ]
  },
  {
   "cell_type": "code",
   "execution_count": 7,
   "metadata": {},
   "outputs": [
    {
     "name": "stdout",
     "output_type": "stream",
     "text": [
      "Sparcity: 2.43933850340896%\n"
     ]
    }
   ],
   "source": [
    "purpose_dense = purpose_vectorized.todense()\n",
    "\n",
    "print(\"Sparcity: \" + str(((purpose_dense > 0).sum()/purpose_dense.size)*100) + \"%\")"
   ]
  },
  {
   "cell_type": "code",
   "execution_count": 8,
   "metadata": {},
   "outputs": [
    {
     "name": "stdout",
     "output_type": "stream",
     "text": [
      "LatentDirichletAllocation(batch_size=50, doc_topic_prior=None,\n",
      "             evaluate_every=-1, learning_decay=0.7,\n",
      "             learning_method='online', learning_offset=10.0,\n",
      "             max_doc_update_iter=100, max_iter=10, mean_change_tol=0.001,\n",
      "             n_components=8, n_jobs=-1, n_topics=None, perp_tol=0.1,\n",
      "             random_state=100, topic_word_prior=None,\n",
      "             total_samples=1000000.0, verbose=0)\n"
     ]
    }
   ],
   "source": [
    "from sklearn.decomposition import LatentDirichletAllocation, TruncatedSVD\n",
    "\n",
    "lda_model = LatentDirichletAllocation(n_components=8,\n",
    "                                     max_iter=10,\n",
    "                                     learning_method='online',\n",
    "                                     random_state=100,\n",
    "                                     batch_size=50,\n",
    "                                     evaluate_every=-1,\n",
    "                                     n_jobs=-1)\n",
    "\n",
    "lda_output = lda_model.fit_transform(purpose_vectorized)\n",
    "\n",
    "print(lda_model)"
   ]
  },
  {
   "cell_type": "code",
   "execution_count": 9,
   "metadata": {
    "scrolled": true
   },
   "outputs": [
    {
     "name": "stdout",
     "output_type": "stream",
     "text": [
      "Log Likelihood:  -1263931.107496432\n"
     ]
    }
   ],
   "source": [
    "print(\"Log Likelihood: \", lda_model.score(purpose_vectorized))"
   ]
  },
  {
   "cell_type": "code",
   "execution_count": 10,
   "metadata": {},
   "outputs": [
    {
     "name": "stdout",
     "output_type": "stream",
     "text": [
      "Perplexity:  256.1582111918381\n"
     ]
    }
   ],
   "source": [
    "print(\"Perplexity: \", lda_model.perplexity(purpose_vectorized))"
   ]
  },
  {
   "cell_type": "code",
   "execution_count": 11,
   "metadata": {
    "scrolled": true
   },
   "outputs": [
    {
     "name": "stdout",
     "output_type": "stream",
     "text": [
      "{'batch_size': 50,\n",
      " 'doc_topic_prior': None,\n",
      " 'evaluate_every': -1,\n",
      " 'learning_decay': 0.7,\n",
      " 'learning_method': 'online',\n",
      " 'learning_offset': 10.0,\n",
      " 'max_doc_update_iter': 100,\n",
      " 'max_iter': 10,\n",
      " 'mean_change_tol': 0.001,\n",
      " 'n_components': 8,\n",
      " 'n_jobs': -1,\n",
      " 'n_topics': None,\n",
      " 'perp_tol': 0.1,\n",
      " 'random_state': 100,\n",
      " 'topic_word_prior': None,\n",
      " 'total_samples': 1000000.0,\n",
      " 'verbose': 0}\n"
     ]
    }
   ],
   "source": [
    "pprint(lda_model.get_params())"
   ]
  },
  {
   "cell_type": "code",
   "execution_count": 23,
   "metadata": {
    "scrolled": true
   },
   "outputs": [
    {
     "name": "stderr",
     "output_type": "stream",
     "text": [
      "C:\\Users\\switkowski\\AppData\\Local\\Programs\\Python\\Python36\\Lib\\site-packages\\sklearn\\decomposition\\online_lda.py:536: DeprecationWarning: The default value for 'learning_method' will be changed from 'online' to 'batch' in the release 0.20. This warning was introduced in 0.18.\n",
      "  DeprecationWarning)\n",
      "C:\\Users\\switkowski\\AppData\\Local\\Programs\\Python\\Python36\\Lib\\site-packages\\sklearn\\decomposition\\online_lda.py:536: DeprecationWarning: The default value for 'learning_method' will be changed from 'online' to 'batch' in the release 0.20. This warning was introduced in 0.18.\n",
      "  DeprecationWarning)\n",
      "C:\\Users\\switkowski\\AppData\\Local\\Programs\\Python\\Python36\\Lib\\site-packages\\sklearn\\decomposition\\online_lda.py:536: DeprecationWarning: The default value for 'learning_method' will be changed from 'online' to 'batch' in the release 0.20. This warning was introduced in 0.18.\n",
      "  DeprecationWarning)\n",
      "C:\\Users\\switkowski\\AppData\\Local\\Programs\\Python\\Python36\\Lib\\site-packages\\sklearn\\decomposition\\online_lda.py:536: DeprecationWarning: The default value for 'learning_method' will be changed from 'online' to 'batch' in the release 0.20. This warning was introduced in 0.18.\n",
      "  DeprecationWarning)\n",
      "C:\\Users\\switkowski\\AppData\\Local\\Programs\\Python\\Python36\\Lib\\site-packages\\sklearn\\decomposition\\online_lda.py:536: DeprecationWarning: The default value for 'learning_method' will be changed from 'online' to 'batch' in the release 0.20. This warning was introduced in 0.18.\n",
      "  DeprecationWarning)\n",
      "C:\\Users\\switkowski\\AppData\\Local\\Programs\\Python\\Python36\\Lib\\site-packages\\sklearn\\decomposition\\online_lda.py:536: DeprecationWarning: The default value for 'learning_method' will be changed from 'online' to 'batch' in the release 0.20. This warning was introduced in 0.18.\n",
      "  DeprecationWarning)\n",
      "C:\\Users\\switkowski\\AppData\\Local\\Programs\\Python\\Python36\\Lib\\site-packages\\sklearn\\decomposition\\online_lda.py:536: DeprecationWarning: The default value for 'learning_method' will be changed from 'online' to 'batch' in the release 0.20. This warning was introduced in 0.18.\n",
      "  DeprecationWarning)\n",
      "C:\\Users\\switkowski\\AppData\\Local\\Programs\\Python\\Python36\\Lib\\site-packages\\sklearn\\decomposition\\online_lda.py:536: DeprecationWarning: The default value for 'learning_method' will be changed from 'online' to 'batch' in the release 0.20. This warning was introduced in 0.18.\n",
      "  DeprecationWarning)\n",
      "C:\\Users\\switkowski\\AppData\\Local\\Programs\\Python\\Python36\\Lib\\site-packages\\sklearn\\decomposition\\online_lda.py:536: DeprecationWarning: The default value for 'learning_method' will be changed from 'online' to 'batch' in the release 0.20. This warning was introduced in 0.18.\n",
      "  DeprecationWarning)\n",
      "C:\\Users\\switkowski\\AppData\\Local\\Programs\\Python\\Python36\\Lib\\site-packages\\sklearn\\decomposition\\online_lda.py:536: DeprecationWarning: The default value for 'learning_method' will be changed from 'online' to 'batch' in the release 0.20. This warning was introduced in 0.18.\n",
      "  DeprecationWarning)\n",
      "C:\\Users\\switkowski\\AppData\\Local\\Programs\\Python\\Python36\\Lib\\site-packages\\sklearn\\decomposition\\online_lda.py:536: DeprecationWarning: The default value for 'learning_method' will be changed from 'online' to 'batch' in the release 0.20. This warning was introduced in 0.18.\n",
      "  DeprecationWarning)\n",
      "C:\\Users\\switkowski\\AppData\\Local\\Programs\\Python\\Python36\\Lib\\site-packages\\sklearn\\decomposition\\online_lda.py:536: DeprecationWarning: The default value for 'learning_method' will be changed from 'online' to 'batch' in the release 0.20. This warning was introduced in 0.18.\n",
      "  DeprecationWarning)\n",
      "C:\\Users\\switkowski\\AppData\\Local\\Programs\\Python\\Python36\\Lib\\site-packages\\sklearn\\decomposition\\online_lda.py:536: DeprecationWarning: The default value for 'learning_method' will be changed from 'online' to 'batch' in the release 0.20. This warning was introduced in 0.18.\n",
      "  DeprecationWarning)\n",
      "C:\\Users\\switkowski\\AppData\\Local\\Programs\\Python\\Python36\\Lib\\site-packages\\sklearn\\decomposition\\online_lda.py:536: DeprecationWarning: The default value for 'learning_method' will be changed from 'online' to 'batch' in the release 0.20. This warning was introduced in 0.18.\n",
      "  DeprecationWarning)\n",
      "C:\\Users\\switkowski\\AppData\\Local\\Programs\\Python\\Python36\\Lib\\site-packages\\sklearn\\decomposition\\online_lda.py:536: DeprecationWarning: The default value for 'learning_method' will be changed from 'online' to 'batch' in the release 0.20. This warning was introduced in 0.18.\n",
      "  DeprecationWarning)\n",
      "C:\\Users\\switkowski\\AppData\\Local\\Programs\\Python\\Python36\\Lib\\site-packages\\sklearn\\decomposition\\online_lda.py:536: DeprecationWarning: The default value for 'learning_method' will be changed from 'online' to 'batch' in the release 0.20. This warning was introduced in 0.18.\n",
      "  DeprecationWarning)\n",
      "C:\\Users\\switkowski\\AppData\\Local\\Programs\\Python\\Python36\\Lib\\site-packages\\sklearn\\decomposition\\online_lda.py:536: DeprecationWarning: The default value for 'learning_method' will be changed from 'online' to 'batch' in the release 0.20. This warning was introduced in 0.18.\n",
      "  DeprecationWarning)\n",
      "C:\\Users\\switkowski\\AppData\\Local\\Programs\\Python\\Python36\\Lib\\site-packages\\sklearn\\decomposition\\online_lda.py:536: DeprecationWarning: The default value for 'learning_method' will be changed from 'online' to 'batch' in the release 0.20. This warning was introduced in 0.18.\n",
      "  DeprecationWarning)\n",
      "C:\\Users\\switkowski\\AppData\\Local\\Programs\\Python\\Python36\\Lib\\site-packages\\sklearn\\decomposition\\online_lda.py:536: DeprecationWarning: The default value for 'learning_method' will be changed from 'online' to 'batch' in the release 0.20. This warning was introduced in 0.18.\n",
      "  DeprecationWarning)\n",
      "C:\\Users\\switkowski\\AppData\\Local\\Programs\\Python\\Python36\\Lib\\site-packages\\sklearn\\decomposition\\online_lda.py:536: DeprecationWarning: The default value for 'learning_method' will be changed from 'online' to 'batch' in the release 0.20. This warning was introduced in 0.18.\n",
      "  DeprecationWarning)\n",
      "C:\\Users\\switkowski\\AppData\\Local\\Programs\\Python\\Python36\\Lib\\site-packages\\sklearn\\decomposition\\online_lda.py:536: DeprecationWarning: The default value for 'learning_method' will be changed from 'online' to 'batch' in the release 0.20. This warning was introduced in 0.18.\n",
      "  DeprecationWarning)\n",
      "C:\\Users\\switkowski\\AppData\\Local\\Programs\\Python\\Python36\\Lib\\site-packages\\sklearn\\decomposition\\online_lda.py:536: DeprecationWarning: The default value for 'learning_method' will be changed from 'online' to 'batch' in the release 0.20. This warning was introduced in 0.18.\n",
      "  DeprecationWarning)\n",
      "C:\\Users\\switkowski\\AppData\\Local\\Programs\\Python\\Python36\\Lib\\site-packages\\sklearn\\decomposition\\online_lda.py:536: DeprecationWarning: The default value for 'learning_method' will be changed from 'online' to 'batch' in the release 0.20. This warning was introduced in 0.18.\n",
      "  DeprecationWarning)\n",
      "C:\\Users\\switkowski\\AppData\\Local\\Programs\\Python\\Python36\\Lib\\site-packages\\sklearn\\decomposition\\online_lda.py:536: DeprecationWarning: The default value for 'learning_method' will be changed from 'online' to 'batch' in the release 0.20. This warning was introduced in 0.18.\n",
      "  DeprecationWarning)\n",
      "C:\\Users\\switkowski\\AppData\\Local\\Programs\\Python\\Python36\\Lib\\site-packages\\sklearn\\decomposition\\online_lda.py:536: DeprecationWarning: The default value for 'learning_method' will be changed from 'online' to 'batch' in the release 0.20. This warning was introduced in 0.18.\n",
      "  DeprecationWarning)\n",
      "C:\\Users\\switkowski\\AppData\\Local\\Programs\\Python\\Python36\\Lib\\site-packages\\sklearn\\decomposition\\online_lda.py:536: DeprecationWarning: The default value for 'learning_method' will be changed from 'online' to 'batch' in the release 0.20. This warning was introduced in 0.18.\n",
      "  DeprecationWarning)\n",
      "C:\\Users\\switkowski\\AppData\\Local\\Programs\\Python\\Python36\\Lib\\site-packages\\sklearn\\decomposition\\online_lda.py:536: DeprecationWarning: The default value for 'learning_method' will be changed from 'online' to 'batch' in the release 0.20. This warning was introduced in 0.18.\n",
      "  DeprecationWarning)\n",
      "C:\\Users\\switkowski\\AppData\\Local\\Programs\\Python\\Python36\\Lib\\site-packages\\sklearn\\decomposition\\online_lda.py:536: DeprecationWarning: The default value for 'learning_method' will be changed from 'online' to 'batch' in the release 0.20. This warning was introduced in 0.18.\n",
      "  DeprecationWarning)\n"
     ]
    },
    {
     "name": "stderr",
     "output_type": "stream",
     "text": [
      "C:\\Users\\switkowski\\AppData\\Local\\Programs\\Python\\Python36\\Lib\\site-packages\\sklearn\\decomposition\\online_lda.py:536: DeprecationWarning: The default value for 'learning_method' will be changed from 'online' to 'batch' in the release 0.20. This warning was introduced in 0.18.\n",
      "  DeprecationWarning)\n",
      "C:\\Users\\switkowski\\AppData\\Local\\Programs\\Python\\Python36\\Lib\\site-packages\\sklearn\\decomposition\\online_lda.py:536: DeprecationWarning: The default value for 'learning_method' will be changed from 'online' to 'batch' in the release 0.20. This warning was introduced in 0.18.\n",
      "  DeprecationWarning)\n",
      "C:\\Users\\switkowski\\AppData\\Local\\Programs\\Python\\Python36\\Lib\\site-packages\\sklearn\\decomposition\\online_lda.py:536: DeprecationWarning: The default value for 'learning_method' will be changed from 'online' to 'batch' in the release 0.20. This warning was introduced in 0.18.\n",
      "  DeprecationWarning)\n",
      "C:\\Users\\switkowski\\AppData\\Local\\Programs\\Python\\Python36\\Lib\\site-packages\\sklearn\\decomposition\\online_lda.py:536: DeprecationWarning: The default value for 'learning_method' will be changed from 'online' to 'batch' in the release 0.20. This warning was introduced in 0.18.\n",
      "  DeprecationWarning)\n",
      "C:\\Users\\switkowski\\AppData\\Local\\Programs\\Python\\Python36\\Lib\\site-packages\\sklearn\\decomposition\\online_lda.py:536: DeprecationWarning: The default value for 'learning_method' will be changed from 'online' to 'batch' in the release 0.20. This warning was introduced in 0.18.\n",
      "  DeprecationWarning)\n",
      "C:\\Users\\switkowski\\AppData\\Local\\Programs\\Python\\Python36\\Lib\\site-packages\\sklearn\\decomposition\\online_lda.py:536: DeprecationWarn"
     ]
    },
    {
     "data": {
      "text/html": [
       "<b>limit_output extension: Maximum message size of 10000 exceeded with 10166 characters</b>"
      ]
     },
     "metadata": {},
     "output_type": "display_data"
    }
   ],
   "source": [
    "from sklearn.model_selection import GridSearchCV\n",
    "\n",
    "search_params = {'n_components': [15, 20, 25, 30, 35, 40, 45],\n",
    "                'learning_decay': [0.5, 0.7, 0.9]}\n",
    "\n",
    "lda = LatentDirichletAllocation()\n",
    "\n",
    "model = GridSearchCV(lda, param_grid = search_params)\n",
    "\n",
    "model.fit(purpose_vectorized)"
   ]
  },
  {
   "cell_type": "code",
   "execution_count": 24,
   "metadata": {},
   "outputs": [
    {
     "name": "stdout",
     "output_type": "stream",
     "text": [
      "Best Model's Params:  {'learning_decay': 0.7, 'n_components': 20}\n",
      "Best Log Likelihood Score:  -455010.4559557604\n",
      "Model Perplexity:  214.09926327061902\n"
     ]
    }
   ],
   "source": [
    "best_lda_model = model.best_estimator_\n",
    "\n",
    "print(\"Best Model's Params: \", model.best_params_)\n",
    "\n",
    "print(\"Best Log Likelihood Score: \", model.best_score_)\n",
    "\n",
    "print(\"Model Perplexity: \", best_lda_model.perplexity(purpose_vectorized))"
   ]
  },
  {
   "cell_type": "code",
   "execution_count": 27,
   "metadata": {},
   "outputs": [
    {
     "name": "stderr",
     "output_type": "stream",
     "text": [
      "C:\\Users\\switkowski\\AppData\\Local\\Programs\\Python\\Python36\\Lib\\site-packages\\sklearn\\model_selection\\_search.py:761: DeprecationWarning: The grid_scores_ attribute was deprecated in version 0.18 in favor of the more elaborate cv_results_ attribute. The grid_scores_ attribute will not be available from 0.20\n",
      "  DeprecationWarning)\n",
      "C:\\Users\\switkowski\\AppData\\Local\\Programs\\Python\\Python36\\Lib\\site-packages\\sklearn\\model_selection\\_search.py:761: DeprecationWarning: The grid_scores_ attribute was deprecated in version 0.18 in favor of the more elaborate cv_results_ attribute. The grid_scores_ attribute will not be available from 0.20\n",
      "  DeprecationWarning)\n",
      "C:\\Users\\switkowski\\AppData\\Local\\Programs\\Python\\Python36\\Lib\\site-packages\\sklearn\\model_selection\\_search.py:761: DeprecationWarning: The grid_scores_ attribute was deprecated in version 0.18 in favor of the more elaborate cv_results_ attribute. The grid_scores_ attribute will not be available from 0.20\n",
      "  DeprecationWarning)\n"
     ]
    },
    {
     "data": {
      "image/png": "[encoded data removed]",
      "text/plain": [
       "<matplotlib.figure.Figure at 0x2264cbe0d30>"
      ]
     },
     "metadata": {},
     "output_type": "display_data"
    }
   ],
   "source": [
    "n_topics = [15, 20, 25, 30, 35, 40, 45]\n",
    "log_likelyhoods_5 = [round(gscore.mean_validation_score)\n",
    "                     for gscore in model.grid_scores_ if gscore.parameters['learning_decay'] == 0.5]\n",
    "log_likelyhoods_7 = [round(gscore.mean_validation_score)\n",
    "                     for gscore in model.grid_scores_ if gscore.parameters['learning_decay'] == 0.7]\n",
    "log_likelyhoods_9 = [round(gscore.mean_validation_score)\n",
    "                     for gscore in model.grid_scores_ if gscore.parameters['learning_decay'] == 0.9]\n",
    "\n",
    "plt.figure(figsize = (12, 8))\n",
    "plt.plot(n_topics, log_likelyhoods_5, label = '0.5')\n",
    "plt.plot(n_topics, log_likelyhoods_7, label = '0.7')\n",
    "plt.plot(n_topics, log_likelyhoods_9, label = '0.9')\n",
    "plt.title('LDA Models')\n",
    "plt.xlabel('Num Topics')\n",
    "plt.ylabel('Log Likelyhood Score')\n",
    "plt.legend(title = 'Learning decay', loc = 'best')\n",
    "plt.show()"
   ]
  },
  {
   "cell_type": "code",
   "execution_count": 14,
   "metadata": {
    "scrolled": true
   },
   "outputs": [
    {
     "data": {
      "text/html": [
       "<div>\n",
       "<style scoped>\n",
       "    .dataframe tbody tr th:only-of-type {\n",
       "        vertical-align: middle;\n",
       "    }\n",
       "\n",
       "    .dataframe tbody tr th {\n",
       "        vertical-align: top;\n",
       "    }\n",
       "\n",
       "    .dataframe thead th {\n",
       "        text-align: right;\n",
       "    }\n",
       "</style>\n",
       "<table border=\"1\" class=\"dataframe\">\n",
       "  <thead>\n",
       "    <tr style=\"text-align: right;\">\n",
       "      <th></th>\n",
       "      <th>abandon</th>\n",
       "      <th>ability</th>\n",
       "      <th>absentee</th>\n",
       "      <th>abuse</th>\n",
       "      <th>academic</th>\n",
       "      <th>accept</th>\n",
       "      <th>access</th>\n",
       "      <th>accessible</th>\n",
       "      <th>accordance</th>\n",
       "      <th>account</th>\n",
       "      <th>...</th>\n",
       "      <th>work</th>\n",
       "      <th>worker</th>\n",
       "      <th>workforce</th>\n",
       "      <th>workgroup</th>\n",
       "      <th>write</th>\n",
       "      <th>writing</th>\n",
       "      <th>year</th>\n",
       "      <th>young</th>\n",
       "      <th>youth</th>\n",
       "      <th>zone</th>\n",
       "    </tr>\n",
       "  </thead>\n",
       "  <tbody>\n",
       "    <tr>\n",
       "      <th>0</th>\n",
       "      <td>0.033343</td>\n",
       "      <td>0.033345</td>\n",
       "      <td>9.209560</td>\n",
       "      <td>0.033374</td>\n",
       "      <td>0.033344</td>\n",
       "      <td>7.873988</td>\n",
       "      <td>0.033346</td>\n",
       "      <td>0.033347</td>\n",
       "      <td>0.033439</td>\n",
       "      <td>0.033344</td>\n",
       "      <td>...</td>\n",
       "      <td>0.033343</td>\n",
       "      <td>0.033343</td>\n",
       "      <td>0.033344</td>\n",
       "      <td>0.033354</td>\n",
       "      <td>0.033357</td>\n",
       "      <td>0.033343</td>\n",
       "      <td>0.033344</td>\n",
       "      <td>11.123024</td>\n",
       "      <td>0.033344</td>\n",
       "      <td>0.033341</td>\n",
       "    </tr>\n",
       "    <tr>\n",
       "      <th>1</th>\n",
       "      <td>0.033343</td>\n",
       "      <td>3.106551</td>\n",
       "      <td>0.033343</td>\n",
       "      <td>0.033344</td>\n",
       "      <td>0.033344</td>\n",
       "      <td>0.034350</td>\n",
       "      <td>0.033395</td>\n",
       "      <td>0.033345</td>\n",
       "      <td>14.001202</td>\n",
       "      <td>0.033342</td>\n",
       "      <td>...</td>\n",
       "      <td>0.033377</td>\n",
       "      <td>0.033368</td>\n",
       "      <td>0.033361</td>\n",
       "      <td>0.033380</td>\n",
       "      <td>7.133877</td>\n",
       "      <td>0.033343</td>\n",
       "      <td>0.033363</td>\n",
       "      <td>0.033343</td>\n",
       "      <td>0.033343</td>\n",
       "      <td>0.033359</td>\n",
       "    </tr>\n",
       "    <tr>\n",
       "      <th>2</th>\n",
       "      <td>0.033345</td>\n",
       "      <td>0.033346</td>\n",
       "      <td>0.033343</td>\n",
       "      <td>0.033379</td>\n",
       "      <td>0.033344</td>\n",
       "      <td>0.033436</td>\n",
       "      <td>0.042591</td>\n",
       "      <td>2.703536</td>\n",
       "      <td>26.954348</td>\n",
       "      <td>0.033344</td>\n",
       "      <td>...</td>\n",
       "      <td>69.324761</td>\n",
       "      <td>0.033422</td>\n",
       "      <td>0.033341</td>\n",
       "      <td>0.033480</td>\n",
       "      <td>19.988300</td>\n",
       "      <td>0.033352</td>\n",
       "      <td>221.598864</td>\n",
       "      <td>0.033346</td>\n",
       "      <td>0.067143</td>\n",
       "      <td>0.033359</td>\n",
       "    </tr>\n",
       "    <tr>\n",
       "      <th>3</th>\n",
       "      <td>0.033343</td>\n",
       "      <td>0.033352</td>\n",
       "      <td>21.272939</td>\n",
       "      <td>0.033372</td>\n",
       "      <td>0.033357</td>\n",
       "      <td>0.033342</td>\n",
       "      <td>10.035929</td>\n",
       "      <td>7.942922</td>\n",
       "      <td>0.033361</td>\n",
       "      <td>0.033359</td>\n",
       "      <td>...</td>\n",
       "      <td>0.033345</td>\n",
       "      <td>0.033347</td>\n",
       "      <td>0.033343</td>\n",
       "      <td>0.033346</td>\n",
       "      <td>0.038060</td>\n",
       "      <td>0.035562</td>\n",
       "      <td>0.033346</td>\n",
       "      <td>0.033342</td>\n",
       "      <td>0.033343</td>\n",
       "      <td>0.033372</td>\n",
       "    </tr>\n",
       "    <tr>\n",
       "      <th>4</th>\n",
       "      <td>0.033342</td>\n",
       "      <td>0.033342</td>\n",
       "      <td>0.033343</td>\n",
       "      <td>0.033343</td>\n",
       "      <td>0.033344</td>\n",
       "      <td>0.033343</td>\n",
       "      <td>0.033343</td>\n",
       "      <td>0.033342</td>\n",
       "      <td>0.033343</td>\n",
       "      <td>0.033343</td>\n",
       "      <td>...</td>\n",
       "      <td>0.033343</td>\n",
       "      <td>0.033344</td>\n",
       "      <td>0.033342</td>\n",
       "      <td>0.033342</td>\n",
       "      <td>0.033344</td>\n",
       "      <td>0.033343</td>\n",
       "      <td>0.033344</td>\n",
       "      <td>0.033345</td>\n",
       "      <td>0.033343</td>\n",
       "      <td>0.033344</td>\n",
       "    </tr>\n",
       "  </tbody>\n",
       "</table>\n",
       "<p>5 rows × 1383 columns</p>\n",
       "</div>"
      ],
      "text/plain": [
       "    abandon   ability   absentee     abuse  academic    accept     access  \\\n",
       "0  0.033343  0.033345   9.209560  0.033374  0.033344  7.873988   0.033346   \n",
       "1  0.033343  3.106551   0.033343  0.033344  0.033344  0.034350   0.033395   \n",
       "2  0.033345  0.033346   0.033343  0.033379  0.033344  0.033436   0.042591   \n",
       "3  0.033343  0.033352  21.272939  0.033372  0.033357  0.033342  10.035929   \n",
       "4  0.033342  0.033342   0.033343  0.033343  0.033344  0.033343   0.033343   \n",
       "\n",
       "   accessible  accordance   account    ...          work    worker  workforce  \\\n",
       "0    0.033347    0.033439  0.033344    ...      0.033343  0.033343   0.033344   \n",
       "1    0.033345   14.001202  0.033342    ...      0.033377  0.033368   0.033361   \n",
       "2    2.703536   26.954348  0.033344    ...     69.324761  0.033422   0.033341   \n",
       "3    7.942922    0.033361  0.033359    ...      0.033345  0.033347   0.033343   \n",
       "4    0.033342    0.033343  0.033343    ...      0.033343  0.033344   0.033342   \n",
       "\n",
       "   workgroup      write   writing        year      young     youth      zone  \n",
       "0   0.033354   0.033357  0.033343    0.033344  11.123024  0.033344  0.033341  \n",
       "1   0.033380   7.133877  0.033343    0.033363   0.033343  0.033343  0.033359  \n",
       "2   0.033480  19.988300  0.033352  221.598864   0.033346  0.067143  0.033359  \n",
       "3   0.033346   0.038060  0.035562    0.033346   0.033342  0.033343  0.033372  \n",
       "4   0.033342   0.033344  0.033343    0.033344   0.033345  0.033343  0.033344  \n",
       "\n",
       "[5 rows x 1383 columns]"
      ]
     },
     "execution_count": 14,
     "metadata": {},
     "output_type": "execute_result"
    }
   ],
   "source": [
    "topic_keywords = pd.DataFrame(best_lda_model.components_)\n",
    "\n",
    "topic_keywords.columns = vectorizer.get_feature_names()\n",
    "\n",
    "topic_keywords.head()"
   ]
  },
  {
   "cell_type": "code",
   "execution_count": 16,
   "metadata": {},
   "outputs": [],
   "source": [
    "import numpy as np\n",
    "\n",
    "def show_topics(vectorizer = vectorizer,\n",
    "               lda_model = lda_model,\n",
    "               n_words = 20):\n",
    "    keywords = np.array(vectorizer.get_feature_names())\n",
    "    topic_keywords = []\n",
    "    for topic_weights in lda_model.components_:\n",
    "        topic_keyword_locs = (-topic_weights).argsort()[:n_words]\n",
    "        topic_keywords.append(keywords.take(topic_keyword_locs))\n",
    "    return topic_keywords\n",
    "\n",
    "topic_keywords = show_topics(lda_model = best_lda_model)"
   ]
  },
  {
   "cell_type": "code",
   "execution_count": 21,
   "metadata": {},
   "outputs": [
    {
     "data": {
      "text/plain": [
       "[array(['medical', 'supplement', 'registration', 'section', 'state',\n",
       "        'physician', 'business', 'article', 'applicant', 'code',\n",
       "        'maryland', 'replacement', 'register', 'require', 'certification',\n",
       "        'volume', 'purpose', 'cannabis', 'electronic', 'board'],\n",
       "       dtype='<U14'),\n",
       " array(['general', 'federal', 'special', 'office', 'operating', 'state',\n",
       "        'senate', 'amendment', 'maryland', 'submit', 'natural',\n",
       "        'legislative', 'shall', 'propose', 'inspector', 'restrict',\n",
       "        'assembly', 'resource', 'foundation', 'house'], dtype='<U14'),\n",
       " array(['certain', 'require', 'county', 'school', 'board', 'education',\n",
       "        'purpose', 'provide', 'public', 'state', 'student', 'relate',\n",
       "        'generally', 'establish', 'high', 'requirement', 'term', 'officer',\n",
       "        'facility', 'year'], dtype='<U14'),\n",
       " array(['service', 'emergency', 'certain', 'benefit', 'computer',\n",
       "        'utility', 'use', 'pharmacy', 'disability', 'company',\n",
       "        'montgomery', 'water', 'product', 'provide', 'electronic',\n",
       "        'communication', 'purpose', 'law', 'measure', 'customer'],\n",
       "       dtype='<U14'),\n",
       " array(['shelter', 'heritage', 'specify', 'permit', 'arrangement',\n",
       "        'encourage', 'correction', 'appear', 'credit', 'status',\n",
       "        'consumption', 'offense', 'official', 'international', 'examine',\n",
       "        'sewer', 'exchange', 'convict', 'counselor', 'substance'],\n",
       "       dtype='<U14'),\n",
       " array(['election', 'party', 'voter', 'ballot', 'political', 'judge',\n",
       "        'vote', 'provide', 'primary', 'audit', 'require', 'limited',\n",
       "        'individual', 'month', 'relate', 'voting', 'purpose', 'make',\n",
       "        'change', 'common'], dtype='<U14'),\n",
       " array(['tax', 'certain', 'property', 'income', 'application', 'purpose',\n",
       "        'provide', 'relate', 'generally', 'act', 'individual', 'rate',\n",
       "        'state', 'year', 'allow', 'maryland', 'real', 'municipal',\n",
       "        'taxable', 'alter'], dtype='<U14'),\n",
       " array(['drug', 'certify', 'prescription', 'treatment', 'abuse', 'alcohol',\n",
       "        'nursing', 'mental', 'substance', 'testing', 'make', 'disorder',\n",
       "        'therapy', 'counselor', 'requirement', 'experience', 'medication',\n",
       "        'health', 'professional', 'arrest'], dtype='<U14'),\n",
       " array(['unit', 'division', 'district', 'sexual', 'criminal', 'transfer',\n",
       "        'state', 'exchange', 'finance', 'evidence', 'public', 'charge',\n",
       "        'attorney', 'assault', 'central', 'victim', 'residential',\n",
       "        'defendant', 'sentence', 'candidate'], dtype='<U14'),\n",
       " array(['authorization', 'county', 'washington', 'authority', 'park',\n",
       "        'bargaining', 'personnel', 'collective', 'transportation',\n",
       "        'museum', 'frederick', 'carroll', 'board', 'exclusive',\n",
       "        'interstate', 'probation', 'reasonable', 'space', 'parking',\n",
       "        'representative'], dtype='<U14'),\n",
       " array(['regulation', 'adopt', 'department', 'require', 'state', 'injury',\n",
       "        'evaluation', 'screening', 'initial', 'board', 'screen', 'program',\n",
       "        'subsequent', 'education', 'advice', 'provision', 'regulatory',\n",
       "        'relate', 'generally', 'purpose'], dtype='<U14'),\n",
       " array(['certain', 'person', 'act', 'prohibit', 'relate', 'purpose',\n",
       "        'provide', 'generally', 'use', 'fee', 'penalty', 'violation',\n",
       "        'provision', 'establish', 'term', 'civil', 'define', 'action',\n",
       "        'control', 'authorize'], dtype='<U14'),\n",
       " array(['fund', 'special', 'provide', 'total', 'service', 'credit',\n",
       "        'general', 'grant', 'appropriate', 'expense', 'agency', 'federal',\n",
       "        'receipt', 'use', 'state', 'immediately', 'pay', 'appropriation',\n",
       "        'department', 'fiscal'], dtype='<U14'),\n",
       " array(['administration', 'employee', 'payment', 'agreement', 'wage',\n",
       "        'security', 'transportation', 'contract', 'labor', 'energy',\n",
       "        'title', 'workforce', 'percentage', 'price', 'contractor', 'share',\n",
       "        'extend', 'standard', 'refund', 'renewable'], dtype='<U14'),\n",
       " array(['appropriation', 'program', 'budget', 'maryland', 'community',\n",
       "        'fiscal', 'institution', 'shall', 'reduce', 'fund', 'pay',\n",
       "        'education', 'summary', 'college', 'provide', 'student',\n",
       "        'scholarship', 'grant', 'use', 'assistance'], dtype='<U14'),\n",
       " array(['voter', 'applicant', 'submit', 'require', 'proof', 'certain',\n",
       "        'state', 'absentee', 'united', 'register', 'registration',\n",
       "        'application', 'ballot', 'prohibit', 'individual', 'authorize',\n",
       "        'director', 'citizen', 'accept', 'complete'], dtype='<U14'),\n",
       " array(['certain', 'alter', 'purpose', 'relate', 'repeal', 'generally',\n",
       "        'maryland', 'retirement', 'change', 'state', 'provision', 'make',\n",
       "        'income', 'corporation', 'act', 'provide', 'veteran',\n",
       "        'modification', 'definition', 'plan'], dtype='<U14'),\n",
       " array(['certain', 'require', 'department', 'provide', 'local', 'program',\n",
       "        'purpose', 'entity', 'date', 'care', 'health', 'information',\n",
       "        'report', 'include', 'provider', 'prohibit', 'service', 'practice',\n",
       "        'relate', 'government'], dtype='<U14'),\n",
       " array(['vehicle', 'insurance', 'highway', 'motor', 'coverage', 'purpose',\n",
       "        'relate', 'generally', 'certain', 'insurer', 'lease',\n",
       "        'administration', 'driver', 'policy', 'electric', 'commercial',\n",
       "        'operate', 'revenue', 'prohibit', 'speed'], dtype='<U14'),\n",
       " array(['loan', 'proceed', 'provide', 'purpose', 'sale', 'bond', 'use',\n",
       "        'development', 'improvement', 'grant', 'issuance', 'debt', 'state',\n",
       "        'authorize', 'expenditure', 'generally', 'evidence', 'creation',\n",
       "        'matching', 'deadline'], dtype='<U14'),\n",
       " array(['hunt', 'kent', 'allowance', 'wildlife', 'hunting', 'obtain',\n",
       "        'prohibition', 'statewide', 'attempt', 'require', 'state', 'voter',\n",
       "        'certain', 'proof', 'application', 'submit', 'united', 'resource',\n",
       "        'applicant', 'equal'], dtype='<U14'),\n",
       " array(['certain', 'require', 'circumstance', 'authorize', 'provide',\n",
       "        'court', 'time', 'purpose', 'make', 'law', 'relate', 'period',\n",
       "        'provision', 'record', 'prohibit', 'generally', 'notice',\n",
       "        'information', 'action', 'person'], dtype='<U14'),\n",
       " array(['department', 'health', 'maryland', 'service', 'university',\n",
       "        'child', 'state', 'center', 'housing', 'behavioral', 'medicaid',\n",
       "        'resident', 'consultation', 'level', 'process', 'dealer',\n",
       "        'advisory', 'report', 'material', 'lead'], dtype='<U14'),\n",
       " array(['specific', 'practicable', 'dispose', 'historic', 'way', 'period',\n",
       "        'purpose', 'certain', 'sale', 'comment', 'tax', 'free', 'relate',\n",
       "        'designate', 'beneficiary', 'immediately', 'use', 'define',\n",
       "        'purchase', 'college'], dtype='<U14'),\n",
       " array(['certificate', 'project', 'public', 'land', 'line', 'site',\n",
       "        'application', 'locate', 'solar', 'agricultural', 'capacity',\n",
       "        'impact', 'easement', 'gas', 'conservation', 'offshore', 'energy',\n",
       "        'construct', 'station', 'generate'], dtype='<U14'),\n",
       " array(['certain', 'require', 'commission', 'member', 'provide', 'force',\n",
       "        'assembly', 'task', 'committee', 'report', 'establish', 'date',\n",
       "        'purpose', 'governor', 'general', 'relate', 'county', 'study',\n",
       "        'recommendation', 'authorize'], dtype='<U14'),\n",
       " array(['brewery', 'restriction', 'farm', 'wholesaler', 'vendor', 'barrel',\n",
       "        'repealing', 'number', 'eliminate', 'licensed', 'serve',\n",
       "        'production', 'single', 'entitle', 'contract', 'total', 'produce',\n",
       "        'delivery', 'great', 'hour'], dtype='<U14'),\n",
       " array(['permit', 'police', 'crime', 'relate', 'firearm', 'handgun',\n",
       "        'life', 'purpose', 'person', 'generally', 'carry', 'death',\n",
       "        'secretary', 'transport', 'law', 'violence', 'state', 'wear',\n",
       "        'commit', 'threat'], dtype='<U14'),\n",
       " array(['hospital', 'patient', 'administrator', 'nurse', 'discharge',\n",
       "        'bowie', 'staff', 'post', 'understanding', 'ensure', 'shelter',\n",
       "        'qualifying', 'accessible', 'knowledge', 'intent', 'declare',\n",
       "        'operating', 'practicable', 'area', 'physician'], dtype='<U14'),\n",
       " array(['license', 'certain', 'baltimore', 'city', 'county', 'holder',\n",
       "        'authorize', 'purpose', 'board', 'generally', 'relate', 'class',\n",
       "        'commissioner', 'beer', 'beverage', 'issue', 'alcoholic', 'sell',\n",
       "        'require', 'wine'], dtype='<U14')]"
      ]
     },
     "execution_count": 21,
     "metadata": {},
     "output_type": "execute_result"
    }
   ],
   "source": [
    "topic_keywords"
   ]
  }
 ],
 "metadata": {
  "kernelspec": {
   "display_name": "Python 3",
   "language": "python",
   "name": "python3"
  },
  "language_info": {
   "codemirror_mode": {
    "name": "ipython",
    "version": 3
   },
   "file_extension": ".py",
   "mimetype": "text/x-python",
   "name": "python",
   "nbconvert_exporter": "python",
   "pygments_lexer": "ipython3",
   "version": "3.6.2"
  },
  "toc": {
   "base_numbering": 1,
   "nav_menu": {},
   "number_sections": true,
   "sideBar": true,
   "skip_h1_title": true,
   "title_cell": "Table of Contents",
   "title_sidebar": "Contents",
   "toc_cell": false,
   "toc_position": {},
   "toc_section_display": true,
   "toc_window_display": false
  }
 },
 "nbformat": 4,
 "nbformat_minor": 2
}
