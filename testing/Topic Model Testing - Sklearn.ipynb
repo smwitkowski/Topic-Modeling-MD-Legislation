{
 "cells": [
  {
   "cell_type": "code",
   "execution_count": 1,
   "metadata": {},
   "outputs": [],
   "source": [
    "import pandas as pd\n",
    "\n",
    "\n",
    "data = pd.read_csv(\n",
    "    'C:\\\\Users\\\\switkowski\\\\Documents\\\\Projects\\\\Topic-Model-MD-Legislation\\\\legislation_scraper\\\\data\\\\bill_data.csv')"
   ]
  },
  {
   "cell_type": "code",
   "execution_count": 2,
   "metadata": {},
   "outputs": [],
   "source": [
    "purpose = data.purpose.tolist()"
   ]
  },
  {
   "cell_type": "code",
   "execution_count": 4,
   "metadata": {},
   "outputs": [],
   "source": [
    "import gensim\n",
    "\n",
    "\n",
    "def process_text(text):\n",
    "    for x in text:\n",
    "        yield(gensim.utils.simple_preprocess(str(x), deacc=True))\n",
    "\n",
    "purpose_words = list(process_text(purpose))        "
   ]
  },
  {
   "cell_type": "code",
   "execution_count": 18,
   "metadata": {
    "scrolled": true
   },
   "outputs": [],
   "source": [
    "import spacy\n",
    "\n",
    "\n",
    "def lemmatization(texts, allowed_postags=['NOUN', 'ADJ', 'VERB', 'ADV']):\n",
    "    texts_out = []\n",
    "    for text in texts:\n",
    "        doc = nlp(\" \".join(text))\n",
    "        texts_out.append(\" \".join([token.lemma_ if token.lemma_ not in [\n",
    "                         '-PRON-'] else \"\" for token in doc if token.pos_ in allowed_postags]))\n",
    "    return texts_out\n",
    "\n",
    "\n",
    "nlp = spacy.load('en', disable=(['parser', 'ner']))\n",
    "purpose_lemmatized = lemmatization(purpose_words)"
   ]
  },
  {
   "cell_type": "code",
   "execution_count": 19,
   "metadata": {
    "scrolled": true
   },
   "outputs": [
    {
     "data": {
      "text/plain": [
       "'purpose provide certain deputy sheriff correctional officer office sheriff harford county have right organize negotiate harford county executive harford county sheriff regard certain wage employee health care premium share require right organize negotiate be conduct accordance certain provision harford county code otherwise provide act require term agreement regard certain wage employee health care premium share be set memorandum agreement enter sheriff county executive employee organization provide agreement regard certain wage employee health care premium share be not effective agreement be ratify sheriff county executive employee organization provide modification exist memorandum agreement be not valid certain circumstance require certain procedure set harford county code apply certain party be unable reach certain agreement provide construction act generally relate salary negotiation right swear law enforcement officer correctional officer harford county sheriff office'"
      ]
     },
     "execution_count": 19,
     "metadata": {},
     "output_type": "execute_result"
    }
   ],
   "source": [
    "purpose_lemmatized[0]"
   ]
  },
  {
   "cell_type": "code",
   "execution_count": 23,
   "metadata": {},
   "outputs": [],
   "source": [
    "from sklearn.feature_extraction.text import CountVectorizer, TfidfVectorizer\n",
    "\n",
    "vectorizer = CountVectorizer(analyzer = 'word',\n",
    "                            min_df = 10,\n",
    "                            stop_words = 'english',\n",
    "                            lowercase = True,\n",
    "                            token_pattern = '[a-zA-Z0-9]{3,}')\n",
    "\n",
    "purpose_vectorized = vectorizer.fit_transform(purpose_lemmatized)"
   ]
  },
  {
   "cell_type": "code",
   "execution_count": 28,
   "metadata": {},
   "outputs": [
    {
     "name": "stdout",
     "output_type": "stream",
     "text": [
      "Sparcity: 2.43933850340896%\n"
     ]
    }
   ],
   "source": [
    "purpose_dense = purpose_vectorized.todense()\n",
    "\n",
    "print(\"Sparcity: \" + str(((purpose_dense > 0).sum()/purpose_dense.size)*100) + \"%\")"
   ]
  }
 ],
 "metadata": {
  "kernelspec": {
   "display_name": "Python 3",
   "language": "python",
   "name": "python3"
  },
  "language_info": {
   "codemirror_mode": {
    "name": "ipython",
    "version": 3
   },
   "file_extension": ".py",
   "mimetype": "text/x-python",
   "name": "python",
   "nbconvert_exporter": "python",
   "pygments_lexer": "ipython3",
   "version": "3.6.2"
  },
  "toc": {
   "base_numbering": 1,
   "nav_menu": {},
   "number_sections": true,
   "sideBar": true,
   "skip_h1_title": false,
   "title_cell": "Table of Contents",
   "title_sidebar": "Contents",
   "toc_cell": false,
   "toc_position": {},
   "toc_section_display": true,
   "toc_window_display": false
  }
 },
 "nbformat": 4,
 "nbformat_minor": 2
}
